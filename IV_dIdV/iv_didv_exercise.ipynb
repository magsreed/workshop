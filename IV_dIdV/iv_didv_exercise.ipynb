{
 "cells": [
  {
   "cell_type": "markdown",
   "id": "40800807",
   "metadata": {},
   "source": [
    "# IV/dIdV Analysis Sweep Demo"
   ]
  },
  {
   "cell_type": "markdown",
   "id": "97d6f9a7-fd9c-4627-9e09-c4d3a8dffe86",
   "metadata": {},
   "source": [
    "Author:\n",
    "\n",
    "Maggie Reed\n",
    "\n",
    "This is a notebook which should help set you up to practice and understand the SPICE/HERALD IV/dIdV sweep processing and analysis. Sections of this notebook are left blank on purpose, as the notebook is intended to be utilized interactively. This notebook is the practical exercise portion of a series of introductory presentations on the SPICE/HERALD analysis pipeline. Users should be working their way through the appropriate presentation BEFORE using this notebook, as many things are made more clear there. \n",
    "\n",
    "While this notebook contains useful theory, students should also be referred to appropriate theses and other readings. Some of the theory covered here is largely introductory, and meant to familiarize a new comer with terms, equations, and parameters. I found Sam Watkins thesis to be very friendly and informative, and of course, for an indepth study, the Bible of TES physics: Kent Irwin's Transition-Edge Sensors paper. Both of these can be found online.  "
   ]
  },
  {
   "cell_type": "markdown",
   "id": "4e1e1eaf-9407-4a0e-ba42-7349b7323792",
   "metadata": {},
   "source": [
    "# Imports, packages"
   ]
  },
  {
   "cell_type": "code",
   "execution_count": 2,
   "id": "e997dd72",
   "metadata": {},
   "outputs": [],
   "source": [
    "import pandas as pd\n",
    "import time as tm\n",
    "from glob import glob\n",
    "import matplotlib.pyplot as plt\n",
    "import numpy as np\n",
    "import matplotlib as mpl\n",
    "mpl.rcParams['figure.figsize'] = [10, 6.5]\n",
    "\n",
    "from pytesdaq.processing import IVSweepProcessing, IVanalysis\n",
    "from pytesdaq.processing import _iv_didv_tools_plotting as plot\n",
    "import qetpy\n",
    "import pickle"
   ]
  },
  {
   "cell_type": "markdown",
   "id": "990991ed",
   "metadata": {},
   "source": [
    "# Setup: channel, data path"
   ]
  },
  {
   "cell_type": "code",
   "execution_count": 3,
   "id": "4401c5f1",
   "metadata": {},
   "outputs": [],
   "source": [
    "# channel\n",
    "channel = 'Melange1pc1ch'\n",
    "\n",
    "# path \n",
    "save_path = '/data/users/your_user/the_run/iv_process' #This is for saving figures or other files if you want\n",
    "sweep_data_path = '/sdata2/runs/run32/raw/iv_didv_I2_D20230902_T122408' #the location of the raw unprocessed data\n"
   ]
  },
  {
   "cell_type": "markdown",
   "id": "614b65e1-8791-416d-86f1-92ba668db1ec",
   "metadata": {},
   "source": [
    "NOTE: \n",
    "\n",
    "The raw data is specified according to the following format:\n",
    "\n",
    "datatype_I2_DYYYYMMDD_THHMMSS | ex: iv_didv_I2_D20230902_T122408\n",
    "\n",
    "Here we see that the kind of data we are getting is iv_didv data, which was taken on September 2nd, 2023. As we continue in our analysis journey, we will see other kinds of data, such as continuous, random, and trigger data. Our raw data is always taken in HDF5 format. Specifics for this raw data will be discussed later, once we start other types of processing and analysis."
   ]
  },
  {
   "cell_type": "markdown",
   "id": "62ae0692",
   "metadata": {},
   "source": [
    "## Preliminary processing of the IV sweep"
   ]
  },
  {
   "cell_type": "code",
   "execution_count": 4,
   "id": "0c3b3df1",
   "metadata": {},
   "outputs": [
    {
     "name": "stdout",
     "output_type": "stream",
     "text": [
      "IV/dIdV Sweep: iv_didv_I2_D20230902_T122408\n",
      " \n",
      "Melange1pc1ch:\n",
      " -IV: 32 bias points\n",
      " -dIdV: 32 bias points\n"
     ]
    }
   ],
   "source": [
    "# instantiate\n",
    "iv_didv = IVSweepProcessing(sweep_data_path)\n",
    "iv_didv.describe()"
   ]
  },
  {
   "cell_type": "markdown",
   "id": "9e965300-88e9-4fb2-bd77-b67f49772e68",
   "metadata": {},
   "source": [
    "Here we see that our 1% TES device was set up to take data at 32 different bias points. These points were split into three regions for the device: SC, Normal, and Transition. The actual range of these values, their divisions/steps, and the voltage values were all specified by whoever took the raw data. This setup is typically done in a config file. "
   ]
  },
  {
   "cell_type": "markdown",
   "id": "c2c56864-8899-4c8b-a710-6c8d757af678",
   "metadata": {},
   "source": [
    "Now we will process the raw data. We typically take data with negative QET bias, which is why we flip it via multiplication by 1. This will be depreciated in the future, and the default case when processing will be to multiply by -1 unless specified otherwise."
   ]
  },
  {
   "cell_type": "code",
   "execution_count": 3,
   "id": "3603920c",
   "metadata": {},
   "outputs": [],
   "source": [
    "# process\n",
    "\n",
    "df = iv_didv.process(channel, \n",
    "                     lgc_save=True, save_path=save_path,\n",
    "                     lgc_output=True, ncores=8)\n",
    "\n",
    "\n",
    "df.qetbias*= -1 \n"
   ]
  },
  {
   "cell_type": "markdown",
   "id": "a693bf90-6913-4cb2-9d60-87bb9d5b0cbe",
   "metadata": {},
   "source": [
    "Once you have processed, be sure to **comment out** the above cell. Processing can take some time, and you do not need to typically reprocess once it is done once. If you want to pick up where you left off, you can reload your data with the below cell."
   ]
  },
  {
   "cell_type": "code",
   "execution_count": null,
   "id": "a4ee6840",
   "metadata": {},
   "outputs": [],
   "source": [
    "# TO LOAD\n",
    "# df = pd.read_hdf('/data/users/serfass/run32/iv_process/iv_didv_I2_D20230902_T122408/IV_dIdV_processing_D20230912_T142435.hdf',\n",
    "#                   key=channel)"
   ]
  },
  {
   "cell_type": "markdown",
   "id": "3eb757c9",
   "metadata": {},
   "source": [
    "# Analysis of the IV Sweep"
   ]
  },
  {
   "cell_type": "markdown",
   "id": "7d0f15c1-789c-48d3-b22b-649563bf036f",
   "metadata": {},
   "source": [
    "Now we are going to begin our actual analysis. First we want to extract some measured DC characteristics. We will begin with the zero-frequency simplification of the Thevenin equivalent TES circuit:\n",
    "\n",
    "$V_b = I(R_l + R(T,I)) \\label{eq1}\\tag{1}$ \n",
    "\n",
    "where $V_b$ is the voltage bias ($V_b = I_b*R_{sh}$), $R_l$ is the load resistance ($R_l = R_p + R_{sh}$), and $R(T,I)$ is the TES resistance, where current and temperature dependence has been explicitly shown. \n",
    "\n",
    "Lets take $\\ref{eq1}$ to two extremes: SC resistance, and normal resistance. \n",
    "\n",
    "Starting with SC regime: the relation between the load resistance $R_l$ and shunt resistance $R_{sh}$ is:\n",
    "\n",
    "$V_b = I_b*R_{sh} = IR_l$\n",
    "\n",
    "where the bias current ($I_b$) and the shunt resistance ($R_{sh}$) is known. \n",
    "\n",
    "Now onto the normal regime:\n",
    "\n",
    "$V_b = I(R_{l}+R_N)$ \n",
    "\n",
    "where $R_N$ is the normal resistance of the TES near the SC transition. \n",
    "\n",
    "At this point you should note that both extremes have linear relationships between $V_b$ and $I$. This is why we vary the voltage bias and observe the current change, since we can then extract the unknown parasitic resistance and normal resistance. \n",
    "\n",
    "The last region we will consider is the transition region between SC and normal. Here we treat the equilibrium bias power as a constant ($P_0$), and utilizing $P=VI$ on $\\ref{eq1}$:\n",
    "$V_b = IR_l+ IR(T,I) = IR_l+ IR = IR_l + V = IR_l + P_0/I$\n",
    "\n",
    "Now, we can fit the curves in these regions!"
   ]
  },
  {
   "cell_type": "code",
   "execution_count": 6,
   "id": "585ca830",
   "metadata": {},
   "outputs": [],
   "source": [
    "IVobj = IVanalysis(\n",
    "    df, \n",
    "    nnorm=5, # number of points in normal region\n",
    "    nsc=4, # number of points in superconducting region\n",
    "    channels=channel,\n",
    "    lgcremove_badseries=True,\n",
    "    figsavepath=save_path\n",
    ")\n"
   ]
  },
  {
   "cell_type": "markdown",
   "id": "176be390-02af-4ebf-b740-4c325fec7af7",
   "metadata": {},
   "source": [
    "The number of points in each region is specified when we take the raw data, you can either get them directly from the config files, or you can guess and modify the number after you run the cell below, counting the number of points by eye in each region. The cell above instantiates our IVanalysis object. This object will be built up as we go through our analysis with various parameters saved in a dictionary internally within the object. "
   ]
  },
  {
   "cell_type": "markdown",
   "id": "43ac2a1e-d316-4764-bb42-8712e2e035e3",
   "metadata": {},
   "source": [
    "# Fitting parameters"
   ]
  },
  {
   "cell_type": "markdown",
   "id": "d94a4a60-4e5b-4429-a458-6e660ab6ec2f",
   "metadata": {},
   "source": [
    "## IV curves"
   ]
  },
  {
   "cell_type": "code",
   "execution_count": 5,
   "id": "473c5261",
   "metadata": {},
   "outputs": [],
   "source": [
    "IVobj.rshunt_err = 0.1e-3\n",
    "IVobj.analyze_sweep(lgcplot=True)"
   ]
  },
  {
   "cell_type": "markdown",
   "id": "bb4dafdf-3c80-4c18-a101-ce1bcf310761",
   "metadata": {},
   "source": [
    "Notice that we specify the shunt error. If you recall, the shunt resistance is a measured quantity, established by the person who fabricated the device. \n",
    "\n",
    "**analyze_sweep**: this function is what fits our IV curves for us, extracting the DC characteristics we talked about earlier, and detailed further in the DC characteristic section in the presentation. We should ask ourselves a few questions at this point:\n",
    "\n",
    "1. Which region is superconducting, normal, or in transition on each graph?\n",
    "2. Does the behavior of each curve match what we would expect in each region?\n",
    "3. Do we have any strange points? (perhaps think about what would happen if we specified more superconduting points than there actually was)\n",
    "4. What parameters do we have now? "
   ]
  },
  {
   "cell_type": "markdown",
   "id": "a7d3b43b",
   "metadata": {},
   "source": [
    "## Fit Rload and  Rn"
   ]
  },
  {
   "cell_type": "code",
   "execution_count": 6,
   "id": "e1b08218",
   "metadata": {},
   "outputs": [],
   "source": [
    "IVobj.fit_rload_rn(lgcplot=True)"
   ]
  },
  {
   "cell_type": "markdown",
   "id": "da71ee5c-5aab-4ac7-818b-731353e199aa",
   "metadata": {},
   "source": [
    "**fit_rload_rn** this function is self explanatory. "
   ]
  },
  {
   "cell_type": "markdown",
   "id": "639dc50c",
   "metadata": {},
   "source": [
    "## Fit dIdV (TES in transition)"
   ]
  },
  {
   "cell_type": "markdown",
   "id": "3145fa8a-3398-464e-aa7f-10423220e927",
   "metadata": {},
   "source": [
    "THEORY OF SMALL SIGNAL RESPONSE HERE"
   ]
  },
  {
   "cell_type": "code",
   "execution_count": 7,
   "id": "c4dcc305",
   "metadata": {},
   "outputs": [],
   "source": [
    "IVobj.fit_tran_didv(lgcplot=True, lp_cutoff=20e3, zoomfactor=0.05)"
   ]
  },
  {
   "cell_type": "markdown",
   "id": "98c27af9-b075-42cf-a016-e916ddd59c9c",
   "metadata": {},
   "source": [
    "**fit_tran_didv** this function fits the small signal response of our device, our dynamical characteristics. Here we also applied a low pass cut off filter just to clean up some of the fuzziness. \n",
    "\n",
    "1. Now what parameters do we have?\n",
    "\n",
    "Theoretical we know how we should fit our small signal response parameters, but how is this done actually/analytically? What is the process behind the curtain of easy function calls which do heavy lifting? "
   ]
  },
  {
   "cell_type": "markdown",
   "id": "beebc5d9",
   "metadata": {},
   "source": [
    "## Noise analysis"
   ]
  },
  {
   "cell_type": "markdown",
   "id": "d13073df-1304-4b16-b771-c9882b1075f6",
   "metadata": {},
   "source": [
    "NOISE ANALYSIS THEORY HERE"
   ]
  },
  {
   "cell_type": "code",
   "execution_count": 10,
   "id": "17f37ef9",
   "metadata": {},
   "outputs": [],
   "source": [
    "IVobj.tc = 48.8e-3\n",
    "IVobj.tbath = 4.5e-3\n",
    "IVobj.tload = 65e-3\n",
    "IVobj.Gta = 5 * IVobj.df[IVobj.didvinds].iloc[9]['ptes']/IVobj.tc"
   ]
  },
  {
   "cell_type": "code",
   "execution_count": 8,
   "id": "52cd9d29",
   "metadata": {},
   "outputs": [],
   "source": [
    "# noise modeling\n",
    "IVobj.fit_normal_noise(fit_range = [1e2, 1e5], lgcplot=True, lgcsave=False)\n",
    "IVobj.fit_sc_noise(fit_range = [1e2, 1e5], lgcplot=True, lgcsave=False)\n",
    "\n",
    "# using  default collection efficiency = 1\n",
    "IVobj.model_noise_simple(lgcplot=True, lgcsave=False, tau_collect=250e-6,collection_eff=1)"
   ]
  },
  {
   "cell_type": "code",
   "execution_count": 12,
   "id": "a518c9ec",
   "metadata": {},
   "outputs": [],
   "source": [
    "# noise errors\n",
    "IVobj.estimate_noise_errors(tau_collect=0, collection_eff=1, nsamples=500)"
   ]
  },
  {
   "cell_type": "markdown",
   "id": "660110fb",
   "metadata": {},
   "source": [
    "## Find Optimum bias"
   ]
  },
  {
   "cell_type": "code",
   "execution_count": 9,
   "id": "9d598678",
   "metadata": {},
   "outputs": [],
   "source": [
    "IVobj.find_optimum_bias(lgcplot=True, ylims=[0, 0.4])"
   ]
  },
  {
   "cell_type": "code",
   "execution_count": 14,
   "id": "42709635",
   "metadata": {},
   "outputs": [
    {
     "name": "stdout",
     "output_type": "stream",
     "text": [
      "Bias (uA), R0 (mOhms), I0 (nA), PTES (fW)\n",
      "-80.0      326.6        -1192.1     464.1     0.0 0.0 0.0 0.0 0.0\n",
      "-70.0      326.7        -1042.5     355.1     0.0 0.0 0.0 0.0 0.0\n",
      "-60.0      326.9        -894.0     261.3     0.0 0.0 0.0 0.0 0.0\n",
      "-50.0      327.0        -744.7     181.3     0.0 0.0 0.0 0.0 0.0\n",
      "-40.0      326.3        -596.9     116.2     0.0 0.0 0.0 0.0 0.0\n",
      "-35.0      323.7        -526.7     89.8     687.2 1.3 686.9 1.3 4.8\n",
      "-30.0      309.7        -470.7     68.6     1575.6 0.5 546.9 0.7 1032.9\n",
      "-28.0      295.1        -461.3     62.8     2808.0 0.5 466.1 0.8 499.3\n",
      "-26.0      271.0        -464.6     58.5     -1732.1 0.8 -44720514461.8 1.1 731.4\n",
      "-24.0      238.9        -483.7     55.9     -240.9 1.0 -301.2 1.5 389.7\n",
      "-22.0      204.8        -515.2     54.4     -162.9 1.5 -197.2 2.0 292.7\n",
      "-20.0      169.0        -561.7     53.3     -114.3 1.9 -136.6 2.5 186.7\n",
      "-19.0      152.3        -589.6     52.9     -92.7 2.0 -106.4 2.8 167.7\n",
      "-18.0      136.2        -621.2     52.6     -80.8 2.4 -87.6 3.1 218.5\n",
      "-17.0      119.4        -661.6     52.3     -82.8 2.7 -90.4 3.3 181.7\n",
      "-16.0      104.3        -706.5     52.1     -73.1 3.0 -79.6 3.9 148.1\n",
      "-15.5      97.3        -730.1     51.9     -63.7 3.0 -66.6 3.7 229.3\n",
      "-15.0      90.3        -757.5     51.8     -63.8 3.4 -67.6 4.2 182.7\n",
      "-14.5      83.5        -786.7     51.7     -63.3 3.4 -67.2 4.3 162.4\n",
      "-14.0      76.8        -819.4     51.6     -58.7 3.6 -62.0 4.4 176.3\n",
      "-13.5      69.4        -860.6     51.4     -54.7 4.0 -57.8 4.9 129.9\n",
      "-13.0      63.2        -900.5     51.3     -51.9 4.3 -54.0 5.2 153.3\n",
      "-12.5      57.5        -941.4     51.0     -49.2 4.5 -51.3 5.4 146.9\n",
      "-12.0      51.4        -996.7     51.0     -46.2 5.0 -47.8 5.9 138.1\n",
      "-11.5      45.7        -1055.2     50.9     -41.7 5.3 -43.1 6.2 139.5\n",
      "-11.0      40.1        -1125.6     50.9     -40.3 5.9 -41.1 6.8 162.8\n",
      "-10.0      28.7        -1328.5     50.6     -33.4 7.3 -33.9 8.3 167.1\n",
      "-8.0      0.0        -4537.0     0.5     0.2 68.0 0.0 67.8 0.1\n",
      "-6.0      -0.0        -3392.7     -0.0     0.0 0.0 0.0 0.0 0.0\n",
      "-4.0      0.0        -2282.7     0.0     0.0 0.0 0.0 0.0 0.0\n",
      "-2.0      0.0        -1126.6     0.0     0.0 0.0 0.0 0.0 0.0\n"
     ]
    }
   ],
   "source": [
    "print(\"Bias (uA), R0 (mOhms), I0 (nA), PTES (fW)\")\n",
    "\n",
    "for index, row in IVobj.df[IVobj.didvinds].iloc[0:-1].iterrows():\n",
    "    print(\n",
    "        f\"{row['qetbias'] * 1e6:.1f}     \",\n",
    "        f\"{row['r0'] * 1e3:.1f}       \",\n",
    "        f\"{row['i0'] * 1e9:.1f}    \",\n",
    "        f\"{row['ptes'] * 1e15:.1f}    \",\n",
    "        f\"{row['didvobj'].fitresult(2).get('params', {'tau1':0}).get('tau1')*1e6:.1f}\",\n",
    "        f\"{row['didvobj'].fitresult(2).get('params', {'tau2':0}).get('tau2')*1e6:.1f}\",\n",
    "        f\"{row['didvobj'].fitresult(3).get('params', {'tau1':0}).get('tau1')*1e6:.1f}\",\n",
    "        f\"{row['didvobj'].fitresult(3).get('params', {'tau2':0}).get('tau2')*1e6:.1f}\",\n",
    "        f\"{row['didvobj'].fitresult(3).get('params', {'tau3':0}).get('tau3')*1e6:.1f}\",\n",
    "        #f\"{row['didvobj'].fitresult(3)['falltimes'][0] * 1e6:.1f}\",\n",
    "        #f\"{row['didvobj'].fitresult(3)['falltimes'][1] * 1e6:.1f}\",\n",
    "        #f\"{row['didvobj'].fitresult(3)['falltimes'][2] * 1e6:.1f}\",\n",
    "    )\n",
    "    "
   ]
  },
  {
   "cell_type": "code",
   "execution_count": null,
   "id": "95d7e477",
   "metadata": {},
   "outputs": [],
   "source": []
  }
 ],
 "metadata": {
  "kernelspec": {
   "display_name": "Python 3",
   "language": "python",
   "name": "python3"
  },
  "language_info": {
   "codemirror_mode": {
    "name": "ipython",
    "version": 3
   },
   "file_extension": ".py",
   "mimetype": "text/x-python",
   "name": "python",
   "nbconvert_exporter": "python",
   "pygments_lexer": "ipython3",
   "version": "3.6.8"
  }
 },
 "nbformat": 4,
 "nbformat_minor": 5
}
